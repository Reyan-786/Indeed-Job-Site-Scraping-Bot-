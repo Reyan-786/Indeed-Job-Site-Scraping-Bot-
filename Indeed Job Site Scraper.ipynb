{
 "cells": [
  {
   "cell_type": "code",
   "execution_count": 1,
   "id": "06d54dd9",
   "metadata": {},
   "outputs": [],
   "source": [
    "import pandas as pd \n",
    "import numpy as np\n",
    "import selenium \n",
    "from selenium import webdriver \n",
    "from selenium.webdriver.common.keys import Keys\n",
    "from selenium.webdriver.support import expected_conditions as EC\n",
    "from selenium.webdriver.support.ui import WebDriverWait\n",
    "from bs4 import BeautifulSoup\n",
    "import time"
   ]
  },
  {
   "cell_type": "code",
   "execution_count": 2,
   "id": "9ef5019b",
   "metadata": {},
   "outputs": [
    {
     "name": "stderr",
     "output_type": "stream",
     "text": [
      "C:\\Users\\asus\\AppData\\Local\\Temp\\ipykernel_17924\\1488592585.py:1: DeprecationWarning: executable_path has been deprecated, please pass in a Service object\n",
      "  driver = webdriver.Chrome(\"C:\\\\Users\\\\asus\\\\OneDrive\\\\Desktop\\\\Drivers\\\\chromedriver.exe\")\n"
     ]
    }
   ],
   "source": [
    "driver = webdriver.Chrome(\"C:\\\\Users\\\\asus\\\\OneDrive\\\\Desktop\\\\Drivers\\\\chromedriver.exe\")\n",
    "url = \"https://in.indeed.com/\"\n",
    "driver.get(url)"
   ]
  },
  {
   "cell_type": "code",
   "execution_count": 4,
   "id": "41b2c321",
   "metadata": {},
   "outputs": [
    {
     "name": "stdout",
     "output_type": "stream",
     "text": [
      "what is the job that you are looking for..? A.I\n",
      "please tell us the location where you are finding the job.. Mumbai\n",
      "enter the path where you would like to store the scraped csv file.? **NOTE if your file path looks like C:\\Users\\asus\\Desktop\\Desktop\\Project Indeed Job Site Scraping then put it like C:\\Users\\asus\\Desktop\\Desktop\\Project Indeed Job Site ScrapingC:\\\\Users\\\\asus\\\\Desktop\\\\Desktop\\\\Project Indeed Job Site Scraping\n"
     ]
    }
   ],
   "source": [
    "job_title = input(\"what is the job that you are looking for..? \")\n",
    "loc = input(\"please tell us the location where you are finding the job.. \")\n",
    "path =input(\"enter the path where you would like to store the scraped csv file.? **NOTE if your file path looks like C:\\\\Users\\\\asus\\\\Desktop\\\\Desktop\\\\Project Indeed Job Site Scraping then put it like C:\\\\Users\\\\asus\\\\Desktop\\\\Desktop\\\\Project Indeed Job Site Scraping\")\n",
    "what_box = driver.find_element(by = \"xpath\", value =\"//input[@id ='text-input-what']\")\n",
    "where_box = driver.find_element(by =\"xpath\" , value =\"//input[@id ='text-input-where']\")\n",
    "find_jobs_button =  driver.find_element(by = \"xpath\", value =\"//button[@class = 'yosegi-InlineWhatWhere-primaryButton']\")\n",
    "what_box.send_keys(job_title)\n",
    "where_box.send_keys(loc)\n",
    "find_jobs_button.click()"
   ]
  },
  {
   "cell_type": "code",
   "execution_count": 5,
   "id": "62fda942",
   "metadata": {},
   "outputs": [
    {
     "name": "stdout",
     "output_type": "stream",
     "text": [
      "All Data Scraped Successfully.....\n"
     ]
    }
   ],
   "source": [
    "df = pd.DataFrame({'Company Name':[''],'Location':[''],'Expected Salary':[''],'Job Title':[''],'Description About the Job':[''],'Link':[''],'Date Posted/Active':['']})\n",
    "while True:\n",
    "    soup = BeautifulSoup(driver.page_source ,'lxml')\n",
    "    start = soup.find('ul',class_='jobsearch-ResultsList css-0')\n",
    "    for litag in start.find_all('li'):\n",
    "        try:\n",
    "            title = litag.find('h2',class_='jobTitle css-1h4a4n5 eu4oa1w0').text\n",
    "            company = litag.find('span',class_='companyName').text\n",
    "            link = litag.find('a',class_='jcs-JobTitle css-jspxzf eu4oa1w0').get('href')\n",
    "            link_full = 'https://in.indeed.com'+link\n",
    "            description = litag.find('ul',{'style':'list-style-type:circle;margin-top: 0px;margin-bottom: 0px;padding-left:20px;'}).text\n",
    "\n",
    "            try:\n",
    "                location = litag.find('div',class_='companyLocation').text\n",
    "\n",
    "            except:\n",
    "                location = 'N/A'\n",
    "            try:\n",
    "                salary  = litag.find('div',class_='metadata salary-snippet-container').text\n",
    "            except:\n",
    "                salary ='N/A'\n",
    "            date = litag.find('span',class_='date').text\n",
    "\n",
    "\n",
    "            length = len(df)\n",
    "            df.loc[length]={'Company Name':company,'Location':location,'Expected Salary':salary,'Job Title':title,'Description About the Job':description,'Link':link_full,'Date Posted/Active':date}\n",
    "        except:\n",
    "            pass\n",
    "    try:\n",
    "        button_to_next_page = soup.find('a',{'aria-label':'Next Page'}).get('href')\n",
    "        driver.get('https://in.indeed.com'+button_to_next_page)\n",
    "    except:\n",
    "        print(\"All Data Scraped Successfully.....\")\n",
    "        break\n",
    "\n",
    "df.to_csv(\"C:\\\\Users\\\\asus\\\\Desktop\\\\Desktop\\\\Project Indeed Job Site Scraping\\\\{}.csv\".format(job_title))"
   ]
  },
  {
   "cell_type": "markdown",
   "id": "cb0b6197",
   "metadata": {},
   "source": [
    "#### * Now we have scraped all the postings data from the Indeed Job Site \n",
    "#### * Now we would like to email it to the targeted addresses/address\n"
   ]
  },
  {
   "cell_type": "code",
   "execution_count": 16,
   "id": "1a63ddc8",
   "metadata": {},
   "outputs": [],
   "source": [
    "import smtplib ,ssl\n",
    "from email.mime.text import MIMEText\n",
    "from email.mime.base import MIMEBase\n",
    "\n",
    "from email.mime.multipart import MIMEMultipart\n",
    "from email import encoders"
   ]
  },
  {
   "cell_type": "code",
   "execution_count": 14,
   "id": "9e65fe2b",
   "metadata": {},
   "outputs": [
    {
     "name": "stdout",
     "output_type": "stream",
     "text": [
      "Enter the sender's email/gmail address sender_gmail_id.com\n",
      "Enter the reciever's email/gmail address reciever_gmail_id.com\n"
     ]
    }
   ],
   "source": [
    "sender = input(\"Enter the sender's email/gmail address \")\n",
    "reciever = input(\"Enter the reciever's email/gmail address \")\n"
   ]
  },
  {
   "cell_type": "code",
   "execution_count": 21,
   "id": "cff021ea",
   "metadata": {},
   "outputs": [],
   "source": [
    "msg = MIMEMultipart()\n",
    "msg['Subject'] = 'New postings on Indeed'\n",
    "msg['From']  = sender\n",
    "msg['To'] = ','.join(reciever)\n",
    "\n",
    "part = MIMEBase('application', 'octet-stream')\n",
    "part.set_payload(open(\"C:\\\\Users\\\\asus\\\\Desktop\\\\Desktop\\\\Project Indeed Job Site Scraping\\\\{}.csv\".format(job_title),'rb').read())\n",
    "encoders.encode_base64(part)\n",
    "part.add_header('Content-Disposition','attachment; filename =\"C:\\\\Users\\\\asus\\\\Desktop\\\\Desktop\\\\Project Indeed Job Site Scraping\\\\{}.csv\"'.format(job_title))\n",
    "msg.attach(part)\n",
    "\n",
    "s=smtplib.SMTP_SSL(host ='smtp.gmail.com',port = 465)\n",
    "s.login(user = 'senders gmail id here',password  = 'senders password here')\n",
    "s.sendmail(sender,reciever,msg.as_string())\n",
    "s.quit()"
   ]
  },
  {
   "cell_type": "code",
   "execution_count": 20,
   "id": "15602df0",
   "metadata": {},
   "outputs": [
    {
     "name": "stdout",
     "output_type": "stream",
     "text": [
      "C:\\Users\\asus\\AppData\\Local\\Programs\\Python\\Python310\\python.exe\n"
     ]
    }
   ],
   "source": [
    "import sys\n",
    "print(sys.executable)"
   ]
  },
  {
   "cell_type": "code",
   "execution_count": null,
   "id": "88d1c660",
   "metadata": {},
   "outputs": [],
   "source": []
  }
 ],
 "metadata": {
  "kernelspec": {
   "display_name": "Python 3",
   "language": "python",
   "name": "python3"
  },
  "language_info": {
   "codemirror_mode": {
    "name": "ipython",
    "version": 3
   },
   "file_extension": ".py",
   "mimetype": "text/x-python",
   "name": "python",
   "nbconvert_exporter": "python",
   "pygments_lexer": "ipython3",
   "version": "3.10.7"
  }
 },
 "nbformat": 4,
 "nbformat_minor": 5
}
